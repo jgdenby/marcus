{
 "cells": [
  {
   "cell_type": "code",
   "execution_count": 17,
   "id": "f38121ed",
   "metadata": {},
   "outputs": [],
   "source": [
    "from apikey import OPENAI_KEY, PINECONE_KEY, PINECONE_ENV"
   ]
  },
  {
   "cell_type": "code",
   "execution_count": 2,
   "id": "ababea65",
   "metadata": {},
   "outputs": [],
   "source": [
    "from langchain.document_loaders import UnstructuredPDFLoader\n",
    "from langchain.text_splitter import RecursiveCharacterTextSplitter"
   ]
  },
  {
   "cell_type": "markdown",
   "id": "1eab67f4",
   "metadata": {},
   "source": [
    "# Load Data"
   ]
  },
  {
   "cell_type": "markdown",
   "id": "c7c45167",
   "metadata": {
    "heading_collapsed": true
   },
   "source": [
    "## Epictetus"
   ]
  },
  {
   "cell_type": "code",
   "execution_count": 3,
   "id": "456f154a",
   "metadata": {
    "hidden": true
   },
   "outputs": [],
   "source": [
    "loader = UnstructuredPDFLoader(\"./data/epictetus_discourses.pdf\")\n",
    "discourses = loader.load()"
   ]
  },
  {
   "cell_type": "code",
   "execution_count": 5,
   "id": "853616d7",
   "metadata": {
    "hidden": true,
    "scrolled": true
   },
   "outputs": [
    {
     "name": "stdout",
     "output_type": "stream",
     "text": [
      "1 documents in the data\n",
      "612025 characters in the document\n"
     ]
    }
   ],
   "source": [
    "print(f\"{len(discourses)} documents in the data\")\n",
    "print(f\"{len(discourses[0].page_content)} characters in the document\")"
   ]
  },
  {
   "cell_type": "code",
   "execution_count": 6,
   "id": "3b5e74e2",
   "metadata": {
    "hidden": true
   },
   "outputs": [],
   "source": [
    "loader = UnstructuredPDFLoader(\"./data/epictetus_encheiridion.pdf\")\n",
    "encheiridion= loader.load()"
   ]
  },
  {
   "cell_type": "code",
   "execution_count": 7,
   "id": "bc52bbe5",
   "metadata": {
    "hidden": true
   },
   "outputs": [
    {
     "name": "stdout",
     "output_type": "stream",
     "text": [
      "1 documents in the data\n",
      "44270 characters in the document\n"
     ]
    }
   ],
   "source": [
    "print(f\"{len(encheiridion)} documents in the data\")\n",
    "print(f\"{len(encheiridion[0].page_content)} characters in the document\")"
   ]
  },
  {
   "cell_type": "markdown",
   "id": "6c410f92",
   "metadata": {
    "heading_collapsed": true
   },
   "source": [
    "# Break up data in to smaller documents"
   ]
  },
  {
   "cell_type": "code",
   "execution_count": 8,
   "id": "c279ff79",
   "metadata": {
    "hidden": true
   },
   "outputs": [],
   "source": [
    "text_splitter = RecursiveCharacterTextSplitter(chunk_size = 1000, chunk_overlap = 0)"
   ]
  },
  {
   "cell_type": "code",
   "execution_count": 9,
   "id": "e7768c1a",
   "metadata": {
    "hidden": true
   },
   "outputs": [],
   "source": [
    "discourses_texts = text_splitter.split_documents(discourses)\n",
    "encheiridion_texts = text_splitter.split_documents(encheiridion)\n",
    "epictetus_texts = discourses_texts+encheiridion_texts"
   ]
  },
  {
   "cell_type": "code",
   "execution_count": 10,
   "id": "0361d991",
   "metadata": {
    "hidden": true
   },
   "outputs": [
    {
     "name": "stdout",
     "output_type": "stream",
     "text": [
      "889 chunked-up documents\n",
      "61 chunked-up documents\n",
      "950 chunked-up documents\n"
     ]
    }
   ],
   "source": [
    "print(f\"{len(discourses_texts)} chunked-up documents\")\n",
    "print(f\"{len(encheiridion_texts)} chunked-up documents\")\n",
    "print(f\"{len(epictetus_texts)} chunked-up documents\")"
   ]
  },
  {
   "cell_type": "markdown",
   "id": "65aabdf5",
   "metadata": {},
   "source": [
    "# Create document embeddings"
   ]
  },
  {
   "cell_type": "code",
   "execution_count": 11,
   "id": "ab9599b7",
   "metadata": {},
   "outputs": [
    {
     "name": "stderr",
     "output_type": "stream",
     "text": [
      "/Library/Frameworks/Python.framework/Versions/3.9/lib/python3.9/site-packages/pinecone/index.py:4: TqdmExperimentalWarning: Using `tqdm.autonotebook.tqdm` in notebook mode. Use `tqdm.tqdm` instead to force console mode (e.g. in jupyter console)\n",
      "  from tqdm.autonotebook import tqdm\n"
     ]
    }
   ],
   "source": [
    "from langchain.vectorstores import Pinecone\n",
    "from langchain.embeddings.openai import OpenAIEmbeddings\n",
    "import pinecone\n",
    "import openai\n",
    "openai.api_key = OPENAI_KEY\n",
    "\n",
    "# openai.Engine.list()  # check we have authenticated"
   ]
  },
  {
   "cell_type": "code",
   "execution_count": 12,
   "id": "c0b0271e",
   "metadata": {},
   "outputs": [],
   "source": [
    "embeddings = OpenAIEmbeddings(openai_api_key=OPENAI_KEY)"
   ]
  },
  {
   "cell_type": "code",
   "execution_count": 15,
   "id": "e7456fa9",
   "metadata": {},
   "outputs": [],
   "source": [
    "pinecone.init(\n",
    "    api_key=PINECONE_KEY,\n",
    "    environment=PINECONE_ENV\n",
    ")\n",
    "index_name = 'marcus'"
   ]
  },
  {
   "cell_type": "code",
   "execution_count": 16,
   "id": "3eb0cade",
   "metadata": {},
   "outputs": [],
   "source": [
    "docsearch = Pinecone.from_texts([t.page_content for t in epictetus_texts], \n",
    "                                embeddings, index_name=index_name)"
   ]
  },
  {
   "cell_type": "markdown",
   "id": "0f3cef53",
   "metadata": {},
   "source": [
    "# Query documents"
   ]
  },
  {
   "cell_type": "code",
   "execution_count": 18,
   "id": "1d74b128",
   "metadata": {},
   "outputs": [],
   "source": [
    "from langchain.llms import OpenAI\n",
    "from langchain.chains.question_answering import load_qa_chain"
   ]
  },
  {
   "cell_type": "code",
   "execution_count": 19,
   "id": "ebced0fc",
   "metadata": {},
   "outputs": [],
   "source": [
    "llm = OpenAI(temperature=0.3, openai_api_key=OPENAI_KEY)\n",
    "chain = load_qa_chain(llm, chain_type='stuff')"
   ]
  },
  {
   "cell_type": "code",
   "execution_count": 21,
   "id": "9969979e",
   "metadata": {},
   "outputs": [],
   "source": [
    "query = \"What does it mean to live a good life?\"\n",
    "docs= docsearch.similarity_search(query)"
   ]
  },
  {
   "cell_type": "code",
   "execution_count": 22,
   "id": "8dc92ac3",
   "metadata": {},
   "outputs": [
    {
     "data": {
      "text/plain": [
       "' Living a good life means aiming for high goals, such as freedom and happiness, and making the effort to achieve them. It also means making wise decisions and understanding the difference between good and bad, and between things that are neither good nor bad. Finally, it means being conscious of obeying God and performing the acts of a wise and good man.'"
      ]
     },
     "execution_count": 22,
     "metadata": {},
     "output_type": "execute_result"
    }
   ],
   "source": [
    "chain.run(input_documents = docs, question = query)"
   ]
  },
  {
   "cell_type": "code",
   "execution_count": null,
   "id": "d3e31bcd",
   "metadata": {},
   "outputs": [],
   "source": []
  }
 ],
 "metadata": {
  "kernelspec": {
   "display_name": "Python 3",
   "language": "python",
   "name": "python3"
  },
  "language_info": {
   "codemirror_mode": {
    "name": "ipython",
    "version": 3
   },
   "file_extension": ".py",
   "mimetype": "text/x-python",
   "name": "python",
   "nbconvert_exporter": "python",
   "pygments_lexer": "ipython3",
   "version": "3.9.0"
  },
  "varInspector": {
   "cols": {
    "lenName": 16,
    "lenType": 16,
    "lenVar": 40
   },
   "kernels_config": {
    "python": {
     "delete_cmd_postfix": "",
     "delete_cmd_prefix": "del ",
     "library": "var_list.py",
     "varRefreshCmd": "print(var_dic_list())"
    },
    "r": {
     "delete_cmd_postfix": ") ",
     "delete_cmd_prefix": "rm(",
     "library": "var_list.r",
     "varRefreshCmd": "cat(var_dic_list()) "
    }
   },
   "types_to_exclude": [
    "module",
    "function",
    "builtin_function_or_method",
    "instance",
    "_Feature"
   ],
   "window_display": false
  }
 },
 "nbformat": 4,
 "nbformat_minor": 5
}
